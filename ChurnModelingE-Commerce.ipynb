{
 "cells": [
  {
   "cell_type": "code",
   "execution_count": 113,
   "id": "7ec45743-da4f-40ff-a6f5-d8627b44880d",
   "metadata": {},
   "outputs": [],
   "source": [
    "# Churn Modeling\n",
    "# Load order data and label churn\n",
    "\n",
    "# Import libraries\n",
    "import pandas as pd \n",
    "from datetime import datetime, timedelta\n",
    "from sklearn.model_selection import train_test_split\n",
    "from sklearn.ensemble import RandomForestClassifier\n",
    "from sklearn.metrics import classification_report\n",
    "import matplotlib.pyplot as plt"
   ]
  },
  {
   "cell_type": "code",
   "execution_count": 88,
   "id": "c562e1cb-8b49-4bd9-9f70-7a4be165cebc",
   "metadata": {},
   "outputs": [],
   "source": [
    "# Load Order Data\n",
    "orders = pd.read_csv(r\"C:\\Users\\jakel\\OneDrive\\Desktop\\Money Money Money\\Fitness E-Commerce\\orders.csv\")\n",
    "\n",
    "# Change OrderDate to datetime type\n",
    "orders['OrderDate'] = pd.to_datetime(orders['OrderDate'])"
   ]
  },
  {
   "cell_type": "code",
   "execution_count": 89,
   "id": "a3ac4c84-2ae3-425e-964e-8ad70669dd86",
   "metadata": {},
   "outputs": [],
   "source": [
    "# Total spent column\n",
    "\n",
    "orders['TotalSpend'] = orders['Quantity'] * orders['UnitPrice'] - ( orders['Quantity'] * orders['UnitPrice'] * (orders['DiscountApplied'] / 100))"
   ]
  },
  {
   "cell_type": "code",
   "execution_count": 90,
   "id": "cfb3a90b-d675-45a3-bc55-b0bc10578431",
   "metadata": {},
   "outputs": [],
   "source": [
    "# Get last and first order dates for each customer\n",
    "customer_orders = orders.groupby('CustomerID').agg(\n",
    "    last_order_date=('OrderDate', 'max'),\n",
    "    first_order_date=('OrderDate', 'min'),\n",
    "    total_orders=('OrderDate', 'count'),\n",
    "    total_spent=('TotalSpend', 'sum')\n",
    ").reset_index()\n",
    "\n",
    "customer_orders['last_order_date'] = pd.to_datetime(customer_orders['last_order_date'])\n",
    "customer_orders['first_order_date'] = pd.to_datetime(customer_orders['first_order_date'])"
   ]
  },
  {
   "cell_type": "code",
   "execution_count": 91,
   "id": "0a7311b5-5bda-4580-ba1b-26056c816eb8",
   "metadata": {},
   "outputs": [],
   "source": [
    "# Set last day of 2024 as December 31, 2024. Change to date datatype\n",
    "End2024 = '2024-12-31'\n",
    "format_string = \"%Y-%m-%d\"\n",
    "End2024 = datetime.strptime(End2024, format_string)\n",
    "\n",
    "# Create new columns by calculating days since first and last orders\n",
    "customer_orders['days_since_last_order'] = (End2024 - customer_orders['last_order_date']).dt.days\n",
    "customer_orders['days_since_first_order'] = (End2024 - customer_orders['first_order_date']).dt.days\n",
    "\n",
    "# Create new column by calculating avg days between first and last orders\n",
    "customer_orders['avg_days_between_orders'] = customer_orders['days_since_first_order'] / customer_orders['total_orders']\n",
    "\n",
    "# Create new column by calculating Average Order Value\n",
    "customer_orders['aov'] = customer_orders['total_spent'] / customer_orders['total_orders']\n"
   ]
  },
  {
   "cell_type": "code",
   "execution_count": 92,
   "id": "e595afc0-b3ce-4089-9438-5a14047d5096",
   "metadata": {},
   "outputs": [],
   "source": [
    "# Create functiont o define customers as new, churned, or active\n",
    "def label_status(row):\n",
    "    if row['days_since_first_order'] <= 30:\n",
    "        return 'New'\n",
    "    elif row['days_since_last_order'] > 180:\n",
    "        return 'Churned'\n",
    "    else:\n",
    "        return 'Active'"
   ]
  },
  {
   "cell_type": "code",
   "execution_count": 93,
   "id": "ed94f560-9d17-451a-ae29-9e6fd9c14476",
   "metadata": {},
   "outputs": [],
   "source": [
    "# Create status and churn labels by using function 'label_status'. Then, applying label if chruned.\n",
    "customer_orders['status'] = customer_orders.apply(label_status, axis=1)\n",
    "customer_orders['churn_label'] = customer_orders['status'].apply(lambda x: 1 if x == 'Churned' else 0)"
   ]
  },
  {
   "cell_type": "code",
   "execution_count": 94,
   "id": "dff1bbdd-ecde-4c2e-a43b-7e928f510886",
   "metadata": {},
   "outputs": [],
   "source": [
    "# Prepare feature and labels\n",
    "features = customer_orders[['total_orders', 'total_spent', 'days_since_last_order', 'days_since_first_order', 'avg_days_between_orders', 'aov']]\n",
    "labels = customer_orders['churn_label']"
   ]
  },
  {
   "cell_type": "code",
   "execution_count": 95,
   "id": "0b7b50d0-3bc4-48f4-90c3-2a6a7c6434c4",
   "metadata": {},
   "outputs": [],
   "source": [
    "# Create train/test split\n",
    "X_train, X_test, y_train, y_test = train_test_split(features, labels, test_size=0.3, random_state=42)"
   ]
  },
  {
   "cell_type": "code",
   "execution_count": 96,
   "id": "ea27d3c1-2d83-45dc-8105-37f2af2dfb1f",
   "metadata": {},
   "outputs": [
    {
     "data": {
      "text/html": [
       "<style>#sk-container-id-4 {color: black;}#sk-container-id-4 pre{padding: 0;}#sk-container-id-4 div.sk-toggleable {background-color: white;}#sk-container-id-4 label.sk-toggleable__label {cursor: pointer;display: block;width: 100%;margin-bottom: 0;padding: 0.3em;box-sizing: border-box;text-align: center;}#sk-container-id-4 label.sk-toggleable__label-arrow:before {content: \"▸\";float: left;margin-right: 0.25em;color: #696969;}#sk-container-id-4 label.sk-toggleable__label-arrow:hover:before {color: black;}#sk-container-id-4 div.sk-estimator:hover label.sk-toggleable__label-arrow:before {color: black;}#sk-container-id-4 div.sk-toggleable__content {max-height: 0;max-width: 0;overflow: hidden;text-align: left;background-color: #f0f8ff;}#sk-container-id-4 div.sk-toggleable__content pre {margin: 0.2em;color: black;border-radius: 0.25em;background-color: #f0f8ff;}#sk-container-id-4 input.sk-toggleable__control:checked~div.sk-toggleable__content {max-height: 200px;max-width: 100%;overflow: auto;}#sk-container-id-4 input.sk-toggleable__control:checked~label.sk-toggleable__label-arrow:before {content: \"▾\";}#sk-container-id-4 div.sk-estimator input.sk-toggleable__control:checked~label.sk-toggleable__label {background-color: #d4ebff;}#sk-container-id-4 div.sk-label input.sk-toggleable__control:checked~label.sk-toggleable__label {background-color: #d4ebff;}#sk-container-id-4 input.sk-hidden--visually {border: 0;clip: rect(1px 1px 1px 1px);clip: rect(1px, 1px, 1px, 1px);height: 1px;margin: -1px;overflow: hidden;padding: 0;position: absolute;width: 1px;}#sk-container-id-4 div.sk-estimator {font-family: monospace;background-color: #f0f8ff;border: 1px dotted black;border-radius: 0.25em;box-sizing: border-box;margin-bottom: 0.5em;}#sk-container-id-4 div.sk-estimator:hover {background-color: #d4ebff;}#sk-container-id-4 div.sk-parallel-item::after {content: \"\";width: 100%;border-bottom: 1px solid gray;flex-grow: 1;}#sk-container-id-4 div.sk-label:hover label.sk-toggleable__label {background-color: #d4ebff;}#sk-container-id-4 div.sk-serial::before {content: \"\";position: absolute;border-left: 1px solid gray;box-sizing: border-box;top: 0;bottom: 0;left: 50%;z-index: 0;}#sk-container-id-4 div.sk-serial {display: flex;flex-direction: column;align-items: center;background-color: white;padding-right: 0.2em;padding-left: 0.2em;position: relative;}#sk-container-id-4 div.sk-item {position: relative;z-index: 1;}#sk-container-id-4 div.sk-parallel {display: flex;align-items: stretch;justify-content: center;background-color: white;position: relative;}#sk-container-id-4 div.sk-item::before, #sk-container-id-4 div.sk-parallel-item::before {content: \"\";position: absolute;border-left: 1px solid gray;box-sizing: border-box;top: 0;bottom: 0;left: 50%;z-index: -1;}#sk-container-id-4 div.sk-parallel-item {display: flex;flex-direction: column;z-index: 1;position: relative;background-color: white;}#sk-container-id-4 div.sk-parallel-item:first-child::after {align-self: flex-end;width: 50%;}#sk-container-id-4 div.sk-parallel-item:last-child::after {align-self: flex-start;width: 50%;}#sk-container-id-4 div.sk-parallel-item:only-child::after {width: 0;}#sk-container-id-4 div.sk-dashed-wrapped {border: 1px dashed gray;margin: 0 0.4em 0.5em 0.4em;box-sizing: border-box;padding-bottom: 0.4em;background-color: white;}#sk-container-id-4 div.sk-label label {font-family: monospace;font-weight: bold;display: inline-block;line-height: 1.2em;}#sk-container-id-4 div.sk-label-container {text-align: center;}#sk-container-id-4 div.sk-container {/* jupyter's `normalize.less` sets `[hidden] { display: none; }` but bootstrap.min.css set `[hidden] { display: none !important; }` so we also need the `!important` here to be able to override the default hidden behavior on the sphinx rendered scikit-learn.org. See: https://github.com/scikit-learn/scikit-learn/issues/21755 */display: inline-block !important;position: relative;}#sk-container-id-4 div.sk-text-repr-fallback {display: none;}</style><div id=\"sk-container-id-4\" class=\"sk-top-container\"><div class=\"sk-text-repr-fallback\"><pre>RandomForestClassifier(random_state=42)</pre><b>In a Jupyter environment, please rerun this cell to show the HTML representation or trust the notebook. <br />On GitHub, the HTML representation is unable to render, please try loading this page with nbviewer.org.</b></div><div class=\"sk-container\" hidden><div class=\"sk-item\"><div class=\"sk-estimator sk-toggleable\"><input class=\"sk-toggleable__control sk-hidden--visually\" id=\"sk-estimator-id-4\" type=\"checkbox\" checked><label for=\"sk-estimator-id-4\" class=\"sk-toggleable__label sk-toggleable__label-arrow\">RandomForestClassifier</label><div class=\"sk-toggleable__content\"><pre>RandomForestClassifier(random_state=42)</pre></div></div></div></div></div>"
      ],
      "text/plain": [
       "RandomForestClassifier(random_state=42)"
      ]
     },
     "execution_count": 96,
     "metadata": {},
     "output_type": "execute_result"
    }
   ],
   "source": [
    "# Train Random Forest\n",
    "model = RandomForestClassifier(n_estimators=100, random_state=42)\n",
    "model.fit(X_train, y_train)"
   ]
  },
  {
   "cell_type": "code",
   "execution_count": 107,
   "id": "ec86ea21-6c02-4368-8695-92a5ea2d95d9",
   "metadata": {},
   "outputs": [
    {
     "name": "stdout",
     "output_type": "stream",
     "text": [
      "              precision    recall  f1-score   support\n",
      "\n",
      "           0       1.00      1.00      1.00        62\n",
      "           1       1.00      1.00      1.00        84\n",
      "\n",
      "    accuracy                           1.00       146\n",
      "   macro avg       1.00      1.00      1.00       146\n",
      "weighted avg       1.00      1.00      1.00       146\n",
      "\n"
     ]
    }
   ],
   "source": [
    "# Evaluate Model\n",
    "y_prob = model.predict_proba(X_test)[:, 1]\n",
    "y_pred_thresh = (y_prob > 0.7).astype(int)\n",
    "print(classification_report(y_test, y_pred_thresh))"
   ]
  },
  {
   "cell_type": "code",
   "execution_count": 108,
   "id": "05af4187-9ddc-4a18-a96d-f865a59e5a64",
   "metadata": {},
   "outputs": [
    {
     "name": "stdout",
     "output_type": "stream",
     "text": [
      "churn_label\n",
      "1    252\n",
      "0    232\n",
      "Name: count, dtype: int64\n"
     ]
    }
   ],
   "source": [
    "print(labels.value_counts())"
   ]
  },
  {
   "cell_type": "code",
   "execution_count": 109,
   "id": "0109d493-0f68-4bdd-a7ab-c4a26c593a09",
   "metadata": {},
   "outputs": [],
   "source": [
    "# Score all customers\n",
    "customer_orders['churn_probability'] = model.predict_proba(features)[:, 1]"
   ]
  },
  {
   "cell_type": "code",
   "execution_count": 110,
   "id": "aca3b98f-7fa1-4fe4-9b0c-bf5950932ecf",
   "metadata": {},
   "outputs": [
    {
     "name": "stdout",
     "output_type": "stream",
     "text": [
      "    CustomerID  status  churn_probability\n",
      "483    CUST500  Active                0.0\n",
      "204    CUST212  Active                0.0\n",
      "392    CUST407  Active                0.0\n",
      "398    CUST414  Active                0.0\n",
      "399    CUST415  Active                0.0\n",
      "414    CUST430  Active                0.0\n",
      "416    CUST432  Active                0.0\n",
      "166    CUST173  Active                0.0\n",
      "165    CUST172  Active                0.0\n",
      "163    CUST170  Active                0.0\n",
      "419    CUST435  Active                0.0\n",
      "146    CUST152  Active                0.0\n",
      "145    CUST151  Active                0.0\n",
      "139    CUST145  Active                0.0\n",
      "212    CUST220  Active                0.0\n",
      "127    CUST133  Active                0.0\n",
      "120    CUST124  Active                0.0\n",
      "118    CUST122  Active                0.0\n",
      "109    CUST113  Active                0.0\n",
      "108    CUST112  Active                0.0\n",
      "104    CUST108  Active                0.0\n",
      "99     CUST103  Active                0.0\n",
      "96     CUST100  Active                0.0\n",
      "448    CUST464  Active                0.0\n",
      "92     CUST096  Active                0.0\n",
      "91     CUST095  Active                0.0\n",
      "449    CUST465  Active                0.0\n",
      "450    CUST466  Active                0.0\n",
      "81     CUST084  Active                0.0\n",
      "436    CUST452  Active                0.0\n",
      "213    CUST221  Active                0.0\n",
      "215    CUST224  Active                0.0\n",
      "216    CUST225  Active                0.0\n",
      "341    CUST354  Active                0.0\n",
      "347    CUST360  Active                0.0\n",
      "336    CUST349  Active                0.0\n",
      "327    CUST339  Active                0.0\n",
      "314    CUST326  Active                0.0\n",
      "355    CUST368  Active                0.0\n",
      "357    CUST370  Active                0.0\n",
      "359    CUST372  Active                0.0\n",
      "301    CUST312  Active                0.0\n",
      "298    CUST309  Active                0.0\n",
      "292    CUST303  Active                0.0\n",
      "289    CUST300  Active                0.0\n",
      "278    CUST289  Active                0.0\n",
      "365    CUST378  Active                0.0\n",
      "275    CUST286  Active                0.0\n",
      "274    CUST285  Active                0.0\n",
      "273    CUST284  Active                0.0\n"
     ]
    }
   ],
   "source": [
    "# Print sampling of churn probability\n",
    "print(customer_orders[['CustomerID', 'status', 'churn_probability']].sort_values(by='churn_probability', ascending=True).head(50))"
   ]
  },
  {
   "cell_type": "code",
   "execution_count": 111,
   "id": "1c38117c-193b-4c90-8f7a-95f011e3b2bd",
   "metadata": {},
   "outputs": [],
   "source": [
    "# Output full results to output.csv\n",
    "customer_orders.to_csv('output.csv', index=False)"
   ]
  },
  {
   "cell_type": "code",
   "execution_count": 114,
   "id": "3c5634e2-4a94-49e2-a401-b4a6ce574781",
   "metadata": {},
   "outputs": [
    {
     "data": {
      "image/png": "[encoded data removed]",
      "text/plain": [
       "<Figure size 640x480 with 1 Axes>"
      ]
     },
     "metadata": {},
     "output_type": "display_data"
    }
   ],
   "source": [
    "# Visualize churn probabilities distribution in histogran\n",
    "plt.hist(y_prob, bins=30)\n",
    "plt.title(\"Churn Possibility Distribution\")\n",
    "plt.xlabel(\"Churn Probability\")\n",
    "plt.ylabel(\"Customers\")\n",
    "plt.show()"
   ]
  },
  {
   "cell_type": "code",
   "execution_count": null,
   "id": "829f4f29-0778-435c-bce1-0a2f2139a20e",
   "metadata": {},
   "outputs": [],
   "source": []
  }
 ],
 "metadata": {
  "kernelspec": {
   "display_name": "Python 3 (ipykernel)",
   "language": "python",
   "name": "python3"
  },
  "language_info": {
   "codemirror_mode": {
    "name": "ipython",
    "version": 3
   },
   "file_extension": ".py",
   "mimetype": "text/x-python",
   "name": "python",
   "nbconvert_exporter": "python",
   "pygments_lexer": "ipython3",
   "version": "3.8.20"
  }
 },
 "nbformat": 4,
 "nbformat_minor": 5
}
